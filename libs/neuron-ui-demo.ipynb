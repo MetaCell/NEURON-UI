{
 "cells": [
  {
   "cell_type": "code",
   "execution_count": 1,
   "metadata": {
    "collapsed": false,
    "scrolled": true
   },
   "outputs": [],
   "source": [
    "#%matplotlib\n",
    "%load_ext autoreload \n",
    "%autoreload 2\n",
    "import GeppettoNeuron \n",
    "GeppettoNeuron.init()"
   ]
  },
  {
   "cell_type": "code",
   "execution_count": 3,
   "metadata": {
    "collapsed": false
   },
   "outputs": [],
   "source": [
    "#from geppettoJupyter.geppetto_comm import GeppettoCoreAPI as G\n",
    "#G.popupVariable('Description', ['CA3 pyramidal neuron (Safiulina et al. 2010).<br/>Control of GABA release at single mossy fiber-CA3 connections in the developing hippocampus. <a href=\"https://senselab.med.yale.edu/ModelDB/showmodel.cshtml?model=126814\">See on ModelDB</a><br/>'])"
   ]
  },
  {
   "cell_type": "code",
   "execution_count": null,
   "metadata": {
    "collapsed": true
   },
   "outputs": [],
   "source": []
  }
 ],
 "metadata": {
  "kernelspec": {
   "display_name": "Python 3",
   "language": "python",
   "name": "python3"
  },
  "language_info": {
   "codemirror_mode": {
    "name": "ipython",
    "version": 3
   },
   "file_extension": ".py",
   "mimetype": "text/x-python",
   "name": "python",
   "nbconvert_exporter": "python",
   "pygments_lexer": "ipython3",
   "version": "3.4.3"
  }
 },
 "nbformat": 4,
 "nbformat_minor": 0
}
